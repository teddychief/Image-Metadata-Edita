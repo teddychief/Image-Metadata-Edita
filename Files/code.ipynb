{
 "cells": [
  {
   "cell_type": "markdown",
   "id": "91246e9d",
   "metadata": {},
   "source": [
    "# Using CV2 to extract images from multiple vieos & Get Metadata\n",
    "\n"
   ]
  },
  {
   "cell_type": "markdown",
   "id": "53b06235",
   "metadata": {},
   "source": [
    "#### This code:\n",
    "    loads videos from your provided file path, \n",
    "    it reads the videos frames per second (fps)\n",
    "    in this example i worked with 20second videos that had 30 fps and i needed only five images\n",
    "    \n",
    "    \n",
    "Ater getting the 5 images, the os library, reads the videos' metadata of datetime created, and the piExif tool pastes it to rename every image in UTF-8 format (\"%Y:%m:%d %H:%M:%S\")\n",
    "\n",
    "after looping through all the videos it then releases the videos \n",
    "\n",
    "    "
   ]
  },
  {
   "cell_type": "code",
   "execution_count": 1,
   "id": "ef60e687",
   "metadata": {
    "scrolled": true
   },
   "outputs": [
    {
     "name": "stderr",
     "output_type": "stream",
     "text": [
      "[mjpeg @ 0x7f793da42a80] overread 8\n"
     ]
    },
    {
     "ename": "FileNotFoundError",
     "evalue": "[Errno 2] No such file or directory: '2023:12:04 16:29:26_IMG_1750_frame_2.jpg'",
     "output_type": "error",
     "traceback": [
      "\u001b[0;31m---------------------------------------------------------------------------\u001b[0m",
      "\u001b[0;31mFileNotFoundError\u001b[0m                         Traceback (most recent call last)",
      "Cell \u001b[0;32mIn[1], line 41\u001b[0m\n\u001b[1;32m     38\u001b[0m cv2\u001b[38;5;241m.\u001b[39mimwrite(image_filename, frame)\n\u001b[1;32m     40\u001b[0m \u001b[38;5;66;03m# Update the image's EXIF metadata\u001b[39;00m\n\u001b[0;32m---> 41\u001b[0m exif_dict \u001b[38;5;241m=\u001b[39m \u001b[43mpiexif\u001b[49m\u001b[38;5;241;43m.\u001b[39;49m\u001b[43mload\u001b[49m\u001b[43m(\u001b[49m\u001b[43mimage_filename\u001b[49m\u001b[43m)\u001b[49m\n\u001b[1;32m     42\u001b[0m new_date \u001b[38;5;241m=\u001b[39m video_date\u001b[38;5;241m.\u001b[39mstrftime(\u001b[38;5;124m\"\u001b[39m\u001b[38;5;124m%\u001b[39m\u001b[38;5;124mY:\u001b[39m\u001b[38;5;124m%\u001b[39m\u001b[38;5;124mm:\u001b[39m\u001b[38;5;132;01m%d\u001b[39;00m\u001b[38;5;124m \u001b[39m\u001b[38;5;124m%\u001b[39m\u001b[38;5;124mH:\u001b[39m\u001b[38;5;124m%\u001b[39m\u001b[38;5;124mM:\u001b[39m\u001b[38;5;124m%\u001b[39m\u001b[38;5;124mS\u001b[39m\u001b[38;5;124m\"\u001b[39m)  \n\u001b[1;32m     43\u001b[0m exif_dict[\u001b[38;5;124m'\u001b[39m\u001b[38;5;124m0th\u001b[39m\u001b[38;5;124m'\u001b[39m][piexif\u001b[38;5;241m.\u001b[39mImageIFD\u001b[38;5;241m.\u001b[39mDateTime] \u001b[38;5;241m=\u001b[39m new_date\n",
      "File \u001b[0;32m~/anaconda3/lib/python3.10/site-packages/piexif/_load.py:28\u001b[0m, in \u001b[0;36mload\u001b[0;34m(input_data, key_is_name)\u001b[0m\n\u001b[1;32m     13\u001b[0m \u001b[38;5;124;03m\"\"\"\u001b[39;00m\n\u001b[1;32m     14\u001b[0m \u001b[38;5;124;03mpy:function:: piexif.load(filename)\u001b[39;00m\n\u001b[1;32m     15\u001b[0m \n\u001b[0;32m   (...)\u001b[0m\n\u001b[1;32m     20\u001b[0m \u001b[38;5;124;03m:rtype: dict\u001b[39;00m\n\u001b[1;32m     21\u001b[0m \u001b[38;5;124;03m\"\"\"\u001b[39;00m\n\u001b[1;32m     22\u001b[0m exif_dict \u001b[38;5;241m=\u001b[39m {\u001b[38;5;124m\"\u001b[39m\u001b[38;5;124m0th\u001b[39m\u001b[38;5;124m\"\u001b[39m:{},\n\u001b[1;32m     23\u001b[0m              \u001b[38;5;124m\"\u001b[39m\u001b[38;5;124mExif\u001b[39m\u001b[38;5;124m\"\u001b[39m:{},\n\u001b[1;32m     24\u001b[0m              \u001b[38;5;124m\"\u001b[39m\u001b[38;5;124mGPS\u001b[39m\u001b[38;5;124m\"\u001b[39m:{},\n\u001b[1;32m     25\u001b[0m              \u001b[38;5;124m\"\u001b[39m\u001b[38;5;124mInterop\u001b[39m\u001b[38;5;124m\"\u001b[39m:{},\n\u001b[1;32m     26\u001b[0m              \u001b[38;5;124m\"\u001b[39m\u001b[38;5;124m1st\u001b[39m\u001b[38;5;124m\"\u001b[39m:{},\n\u001b[1;32m     27\u001b[0m              \u001b[38;5;124m\"\u001b[39m\u001b[38;5;124mthumbnail\u001b[39m\u001b[38;5;124m\"\u001b[39m:\u001b[38;5;28;01mNone\u001b[39;00m}\n\u001b[0;32m---> 28\u001b[0m exifReader \u001b[38;5;241m=\u001b[39m \u001b[43m_ExifReader\u001b[49m\u001b[43m(\u001b[49m\u001b[43minput_data\u001b[49m\u001b[43m)\u001b[49m\n\u001b[1;32m     29\u001b[0m \u001b[38;5;28;01mif\u001b[39;00m exifReader\u001b[38;5;241m.\u001b[39mtiftag \u001b[38;5;129;01mis\u001b[39;00m \u001b[38;5;28;01mNone\u001b[39;00m:\n\u001b[1;32m     30\u001b[0m     \u001b[38;5;28;01mreturn\u001b[39;00m exif_dict\n",
      "File \u001b[0;32m~/anaconda3/lib/python3.10/site-packages/piexif/_load.py:85\u001b[0m, in \u001b[0;36m_ExifReader.__init__\u001b[0;34m(self, data)\u001b[0m\n\u001b[1;32m     83\u001b[0m     \u001b[38;5;28mself\u001b[39m\u001b[38;5;241m.\u001b[39mtiftag \u001b[38;5;241m=\u001b[39m data[\u001b[38;5;241m6\u001b[39m:]\n\u001b[1;32m     84\u001b[0m \u001b[38;5;28;01melse\u001b[39;00m:\n\u001b[0;32m---> 85\u001b[0m     \u001b[38;5;28;01mwith\u001b[39;00m \u001b[38;5;28;43mopen\u001b[39;49m\u001b[43m(\u001b[49m\u001b[43mdata\u001b[49m\u001b[43m,\u001b[49m\u001b[43m \u001b[49m\u001b[38;5;124;43m'\u001b[39;49m\u001b[38;5;124;43mrb\u001b[39;49m\u001b[38;5;124;43m'\u001b[39;49m\u001b[43m)\u001b[49m \u001b[38;5;28;01mas\u001b[39;00m f:\n\u001b[1;32m     86\u001b[0m         magic_number \u001b[38;5;241m=\u001b[39m f\u001b[38;5;241m.\u001b[39mread(\u001b[38;5;241m2\u001b[39m)\n\u001b[1;32m     87\u001b[0m     \u001b[38;5;28;01mif\u001b[39;00m magic_number \u001b[38;5;241m==\u001b[39m \u001b[38;5;124mb\u001b[39m\u001b[38;5;124m\"\u001b[39m\u001b[38;5;130;01m\\xff\u001b[39;00m\u001b[38;5;130;01m\\xd8\u001b[39;00m\u001b[38;5;124m\"\u001b[39m:  \u001b[38;5;66;03m# JPEG\u001b[39;00m\n",
      "\u001b[0;31mFileNotFoundError\u001b[0m: [Errno 2] No such file or directory: '2023:12:04 16:29:26_IMG_1750_frame_2.jpg'"
     ]
    }
   ],
   "source": [
    "import os\n",
    "import cv2\n",
    "import datetime\n",
    "import piexif\n",
    "\n",
    "# Load the videos, and get \n",
    "video_dir = \"/Users/Documents/path\"\n",
    "\n",
    "\n",
    "video_files = [file for file in os.listdir(video_dir) if file.lower().endswith(\".avi\")]\n",
    "\n",
    "for video_file in video_files:\n",
    "    # Read the video file\n",
    "    video_path = os.path.join(video_dir, video_file)\n",
    "    cam = cv2.VideoCapture(video_path)\n",
    "\n",
    "    # video properties\n",
    "    fps = cam.get(cv2.CAP_PROP_FPS)\n",
    "\n",
    "    # Initialize variables\n",
    "    n = 0\n",
    "    i = 0\n",
    "\n",
    "    while True:\n",
    "        ret, frame = cam.read()\n",
    "        if not ret:\n",
    "            break  \n",
    "\n",
    "        # time in seconds\n",
    "        time_in_seconds = n / fps\n",
    "\n",
    "        # Run frames and save every 5 seconds\n",
    "        if time_in_seconds >= 5 * i:\n",
    "            # Get the video's date modified\n",
    "            video_date = datetime.datetime.fromtimestamp(os.path.getmtime(video_path))\n",
    "            formatted_date = video_date.strftime(\"%Y:%m:%d %H:%M:%S\")\n",
    "            image_filename = f\"{formatted_date}_{video_file[:-4]}_frame_{i}.jpg\"\n",
    "            cv2.imwrite(image_filename, frame)\n",
    "\n",
    "            # Update the image's EXIF metadata\n",
    "            exif_dict = piexif.load(image_filename)\n",
    "            new_date = video_date.strftime(\"%Y:%m:%d %H:%M:%S\")  \n",
    "            exif_dict['0th'][piexif.ImageIFD.DateTime] = new_date\n",
    "            exif_bytes = piexif.dump(exif_dict)\n",
    "            piexif.insert(exif_bytes, image_filename)\n",
    "\n",
    "            i += 1\n",
    "\n",
    "        n += 1\n",
    "\n",
    "    # Release \n",
    "    cam.release()\n",
    "\n",
    "print(f\"Extracted images from {len(video_files)} videos.\")"
   ]
  },
  {
   "cell_type": "markdown",
   "id": "e802e274",
   "metadata": {},
   "source": [
    "# USING piEXIF tool"
   ]
  },
  {
   "cell_type": "markdown",
   "id": "27e23732",
   "metadata": {},
   "source": [
    "this tool will help you manipulate image metadata "
   ]
  },
  {
   "cell_type": "markdown",
   "id": "76510cae",
   "metadata": {},
   "source": [
    "For example list image metadata"
   ]
  },
  {
   "cell_type": "code",
   "execution_count": null,
   "id": "d2ec4cdb",
   "metadata": {},
   "outputs": [],
   "source": [
    "import piexif\n",
    "\n",
    "image_path = \"/images/pic.jpg\"\n",
    "\n",
    "# Load the EXIF data\n",
    "exif_dict = piexif.load(image_path)\n",
    "\n",
    "# Print all the metadata\n",
    "print(f\"Metadata for {image_path}:\")\n",
    "for ifd_name in exif_dict:\n",
    "    print(f\"IFD: {ifd_name}\")\n",
    "    if ifd_name == \"thumbnail\":\n",
    "        continue\n",
    "    for tag_name in exif_dict[ifd_name]:\n",
    "        tag_value = exif_dict[ifd_name][tag_name]\n",
    "        print(f\"  {tag_name}: {tag_value}\")"
   ]
  },
  {
   "cell_type": "markdown",
   "id": "df495f3b",
   "metadata": {},
   "source": [
    "### Asuming you now have a long list of images and you want to loop the process and want to edit the general metadata data.\n",
    "\n",
    "#### This code will help: \n",
    "            - copy Exif datetime exif_dict.get(306) which you don't need to worry about, i figured its hidden place\n",
    "            - paste it on the general image *created* and *modified* datetime which is what you actually need instead of what piExif pastes it on \n",
    "          \n"
   ]
  },
  {
   "cell_type": "code",
   "execution_count": null,
   "id": "bd3eabb2",
   "metadata": {},
   "outputs": [],
   "source": [
    "import os\n",
    "from PIL import Image\n",
    "from datetime import datetime\n",
    "\n",
    "def copy_exif_and_update_timestamp(image_path):\n",
    "    try:\n",
    "        # Open the image\n",
    "        img = Image.open(image_path)\n",
    "\n",
    "        # Get the EXIF metadata\n",
    "        exif_dict = img._getexif()\n",
    "\n",
    "        # Extract relevant information (e.g., timestamp)\n",
    "        timestamp_str = exif_dict.get(306)  # 306 corresponds to DateTimeOriginal tag\n",
    "\n",
    "        # Parse the timestamp string into a datetime object\n",
    "        timestamp_dt = datetime.strptime(timestamp_str, \"%Y:%m:%d %H:%M:%S\")\n",
    "\n",
    "        # Convert datetime to timestamp (in seconds since the epoch)\n",
    "        timestamp_int = int(timestamp_dt.timestamp())\n",
    "\n",
    "        # Update the file timestamp\n",
    "        os.utime(image_path, (timestamp_int, timestamp_int))\n",
    "\n",
    "        print(f\"Timestamp updated successfully for {image_path}\")\n",
    "    except Exception as e:\n",
    "        print(f\"Error: {e}\")\n",
    "\n",
    "# Specify the folder containing your images\n",
    "folder_path = \"/images/pic.jpg\"\n",
    "\n",
    "# Loop through all files in the folder\n",
    "for filename in os.listdir(folder_path):\n",
    "    if filename.lower().endswith(\".jpg\"):\n",
    "        image_path = os.path.join(folder_path, filename)\n",
    "        copy_exif_and_update_timestamp(image_path)"
   ]
  }
 ],
 "metadata": {
  "kernelspec": {
   "display_name": "Python 3 (ipykernel)",
   "language": "python",
   "name": "python3"
  },
  "language_info": {
   "codemirror_mode": {
    "name": "ipython",
    "version": 3
   },
   "file_extension": ".py",
   "mimetype": "text/x-python",
   "name": "python",
   "nbconvert_exporter": "python",
   "pygments_lexer": "ipython3",
   "version": "3.10.9"
  }
 },
 "nbformat": 4,
 "nbformat_minor": 5
}
