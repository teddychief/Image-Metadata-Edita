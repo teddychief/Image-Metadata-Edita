{
 "cells": [
  {
   "cell_type": "markdown",
   "id": "91246e9d",
   "metadata": {},
   "source": [
    "# Using CV2 to extract images from multiple vieos & piExifTool To Edit Metadata\n",
    "\n",
    "\n",
    "\n"
   ]
  },
  {
   "cell_type": "markdown",
   "id": "53b06235",
   "metadata": {},
   "source": [
    "#### This code:\n",
    "    loads videos from your provided file path, \n",
    "    it reads the videos frames per second (fps)\n",
    "    in this example i worked with 20second videos that had 30 fps and i needed only five images\n",
    "    \n",
    "    \n",
    "Ater getting the 5 images, the os library, reads the videos' metadata of datetime created, and the piExif tool pastes it to rename every image in UTF-8 format (\"%Y:%m:%d %H:%M:%S\")\n",
    "\n",
    "after looping through all the videos it then releases the videos \n",
    "\n",
    "    "
   ]
  },
  {
   "cell_type": "code",
   "execution_count": 8,
   "id": "ef60e687",
   "metadata": {
    "scrolled": true
   },
   "outputs": [
    {
     "name": "stdout",
     "output_type": "stream",
     "text": [
      "Extracted images from 3 videos.\n"
     ]
    }
   ],
   "source": [
    "import os \n",
    "import cv2  #if this module is not saved on your computer run (!pip install cv2)\n",
    "import datetime\n",
    "import piexif  #if this module is not saved on your computer run (!pip install piexif)\n",
    "\n",
    "# Load the videos, and save output in images folder\n",
    "video_dir = \"/Users/macbookpro/Documents/GitHub/Image-Metadata-Edita/Files/videos\"\n",
    "output_dir = \"/Users/macbookpro/Documents/GitHub/Image-Metadata-Edita/Files/images\"\n",
    "\n",
    "video_files = [file for file in os.listdir(video_dir) if file.lower().endswith(\".avi\")]\n",
    "\n",
    "for video_file in video_files:\n",
    "    # Read the video file\n",
    "    video_path = os.path.join(video_dir, video_file)\n",
    "    cam = cv2.VideoCapture(video_path)\n",
    "\n",
    "    # video properties\n",
    "    fps = cam.get(cv2.CAP_PROP_FPS)\n",
    "\n",
    "    # Initialize variables\n",
    "    n = 0\n",
    "    i = 0\n",
    "\n",
    "    while True:\n",
    "        ret, frame = cam.read()\n",
    "        if not ret:\n",
    "            break  \n",
    "\n",
    "        # time in seconds\n",
    "        time_in_seconds = n / fps\n",
    "\n",
    "        # Run frames and save every 5 seconds\n",
    "        if time_in_seconds >= 5 * i:\n",
    "            # Get the video's date modified\n",
    "            video_date = datetime.datetime.fromtimestamp(os.path.getmtime(video_path))\n",
    "            formatted_date = video_date.strftime(\"%Y:%m:%d %H:%M:%S\")\n",
    "            image_filename = os.path.join(output_dir, f\"{formatted_date}_{video_file[:-4]}_frame_{i}.jpg\")\n",
    "            cv2.imwrite(image_filename, frame)\n",
    "\n",
    "            # Update the image's EXIF metadata\n",
    "            exif_dict = piexif.load(image_filename)\n",
    "            new_date = video_date.strftime(\"%Y:%m:%d %H:%M:%S\")  \n",
    "            exif_dict['0th'][piexif.ImageIFD.DateTime] = new_date\n",
    "            exif_bytes = piexif.dump(exif_dict)\n",
    "            piexif.insert(exif_bytes, image_filename)\n",
    "\n",
    "            i += 1\n",
    "\n",
    "        n += 1\n",
    "\n",
    "    # Release \n",
    "    cam.release()\n",
    "    \n",
    "print(f\"Extracted images from {len(video_files)} videos.\")"
   ]
  },
  {
   "cell_type": "markdown",
   "id": "e802e274",
   "metadata": {},
   "source": [
    "# USING piEXIF tool"
   ]
  },
  {
   "cell_type": "markdown",
   "id": "27e23732",
   "metadata": {},
   "source": [
    "this tool will help you manipulate image metadata "
   ]
  },
  {
   "cell_type": "markdown",
   "id": "76510cae",
   "metadata": {},
   "source": [
    "For example list image metadata"
   ]
  },
  {
   "cell_type": "code",
   "execution_count": 10,
   "id": "d2ec4cdb",
   "metadata": {},
   "outputs": [
    {
     "name": "stdout",
     "output_type": "stream",
     "text": [
      "Metadata for /Users/macbookpro/Documents/GitHub/Image-Metadata-Edita/Files/images/2023:11:27 00:16:54_IMG_0806_frame_0.jpg:\n",
      "IFD: 0th\n",
      "  306: b'2023:11:27 00:16:54'\n",
      "IFD: Exif\n",
      "IFD: GPS\n",
      "IFD: Interop\n",
      "IFD: 1st\n",
      "IFD: thumbnail\n"
     ]
    }
   ],
   "source": [
    "import piexif\n",
    "\n",
    "image_path = \"/Users/macbookpro/Documents/GitHub/Image-Metadata-Edita/Files/images/2023:11:27 00:16:54_IMG_0806_frame_0.jpg\" #specify to any image on the folder\n",
    "\n",
    "# Load the EXIF data\n",
    "exif_dict = piexif.load(image_path)\n",
    "\n",
    "# Print all the metadata\n",
    "print(f\"Metadata for {image_path}:\")\n",
    "for ifd_name in exif_dict:\n",
    "    print(f\"IFD: {ifd_name}\")\n",
    "    if ifd_name == \"thumbnail\":\n",
    "        continue\n",
    "    for tag_name in exif_dict[ifd_name]:\n",
    "        tag_value = exif_dict[ifd_name][tag_name]\n",
    "        print(f\"  {tag_name}: {tag_value}\")"
   ]
  },
  {
   "cell_type": "markdown",
   "id": "df495f3b",
   "metadata": {},
   "source": [
    "### Asuming you now have a long list of images and you want to loop the process and want to edit the general metadata data.\n",
    "\n",
    "#### This code will help: \n",
    "            - copy Exif datetime exif_dict.get(306) which you don't need to worry about, i figured its hidden place\n",
    "            - paste it on the general image *created* and *modified* datetime which is what you actually need instead of what piExif pastes it on \n",
    "          \n"
   ]
  },
  {
   "cell_type": "code",
   "execution_count": 11,
   "id": "bd3eabb2",
   "metadata": {},
   "outputs": [
    {
     "name": "stdout",
     "output_type": "stream",
     "text": [
      "Timestamp updated successfully for /Users/macbookpro/Documents/GitHub/Image-Metadata-Edita/Files/images/2023:11:27 00:20:34_IMG_0808_frame_1.jpg\n",
      "Timestamp updated successfully for /Users/macbookpro/Documents/GitHub/Image-Metadata-Edita/Files/images/2023:11:27 00:20:34_IMG_0808_frame_0.jpg\n",
      "Timestamp updated successfully for /Users/macbookpro/Documents/GitHub/Image-Metadata-Edita/Files/images/2023:11:27 00:20:34_IMG_0808_frame_2.jpg\n",
      "Timestamp updated successfully for /Users/macbookpro/Documents/GitHub/Image-Metadata-Edita/Files/images/2023:11:27 00:20:34_IMG_0808_frame_3.jpg\n",
      "Timestamp updated successfully for /Users/macbookpro/Documents/GitHub/Image-Metadata-Edita/Files/images/2023:11:27 00:18:32_IMG_0807_frame_0.jpg\n",
      "Timestamp updated successfully for /Users/macbookpro/Documents/GitHub/Image-Metadata-Edita/Files/images/2023:11:27 00:18:32_IMG_0807_frame_1.jpg\n",
      "Timestamp updated successfully for /Users/macbookpro/Documents/GitHub/Image-Metadata-Edita/Files/images/2023:11:27 00:18:32_IMG_0807_frame_2.jpg\n",
      "Timestamp updated successfully for /Users/macbookpro/Documents/GitHub/Image-Metadata-Edita/Files/images/2023:11:27 00:16:54_IMG_0806_frame_0.jpg\n",
      "Timestamp updated successfully for /Users/macbookpro/Documents/GitHub/Image-Metadata-Edita/Files/images/2023:11:27 00:16:54_IMG_0806_frame_1.jpg\n",
      "Timestamp updated successfully for /Users/macbookpro/Documents/GitHub/Image-Metadata-Edita/Files/images/2023:11:27 00:16:54_IMG_0806_frame_3.jpg\n",
      "Timestamp updated successfully for /Users/macbookpro/Documents/GitHub/Image-Metadata-Edita/Files/images/2023:11:27 00:16:54_IMG_0806_frame_2.jpg\n",
      "Timestamp updated successfully for /Users/macbookpro/Documents/GitHub/Image-Metadata-Edita/Files/images/2023:11:27 00:16:54_IMG_0806_frame_4.jpg\n"
     ]
    }
   ],
   "source": [
    "import os\n",
    "from PIL import Image\n",
    "from datetime import datetime\n",
    "\n",
    "def copy_exif_and_update_timestamp(image_path):\n",
    "    try:\n",
    "        # Open the image\n",
    "        img = Image.open(image_path)\n",
    "\n",
    "        # Get the EXIF metadata\n",
    "        exif_dict = img._getexif()\n",
    "\n",
    "        # Extract relevant information (e.g., timestamp)\n",
    "        timestamp_str = exif_dict.get(306)  # 306 corresponds to DateTimeOriginal tag\n",
    "\n",
    "        # Parse the timestamp string into a datetime object\n",
    "        timestamp_dt = datetime.strptime(timestamp_str, \"%Y:%m:%d %H:%M:%S\")\n",
    "\n",
    "        # Convert datetime to timestamp (in seconds since the epoch)\n",
    "        timestamp_int = int(timestamp_dt.timestamp())\n",
    "\n",
    "        # Update the file timestamp\n",
    "        os.utime(image_path, (timestamp_int, timestamp_int))\n",
    "\n",
    "        print(f\"Timestamp updated successfully for {image_path}\")\n",
    "    except Exception as e:\n",
    "        print(f\"Error: {e}\")\n",
    "\n",
    "# Specify the folder containing your images\n",
    "folder_path = \"/Users/macbookpro/Documents/GitHub/Image-Metadata-Edita/Files/images\"\n",
    "\n",
    "# Loop through all files in the folder\n",
    "for filename in os.listdir(folder_path):\n",
    "    if filename.lower().endswith(\".jpg\"):\n",
    "        image_path = os.path.join(folder_path, filename)\n",
    "        copy_exif_and_update_timestamp(image_path)"
   ]
  }
 ],
 "metadata": {
  "kernelspec": {
   "display_name": "Python 3 (ipykernel)",
   "language": "python",
   "name": "python3"
  },
  "language_info": {
   "codemirror_mode": {
    "name": "ipython",
    "version": 3
   },
   "file_extension": ".py",
   "mimetype": "text/x-python",
   "name": "python",
   "nbconvert_exporter": "python",
   "pygments_lexer": "ipython3",
   "version": "3.11.7"
  }
 },
 "nbformat": 4,
 "nbformat_minor": 5
}
